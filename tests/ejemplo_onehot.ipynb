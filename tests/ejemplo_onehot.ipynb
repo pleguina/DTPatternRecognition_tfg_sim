{
 "cells": [
  {
   "cell_type": "code",
   "execution_count": 1,
   "id": "9b9f280f",
   "metadata": {},
   "outputs": [],
   "source": [
    "%matplotlib inline\n",
    "import matplotlib\n",
    "import matplotlib.pyplot as plt\n",
    "\n",
    "matplotlib.rcParams['figure.figsize'] = (8, 6)\n",
    "matplotlib.rcParams['axes.labelsize'] = 14\n",
    "\n",
    "import glob\n",
    "import os\n",
    "import re\n",
    "import math\n",
    "import socket\n",
    "import json\n",
    "import pickle\n",
    "import gzip\n",
    "import copy\n",
    "import array\n",
    "import numpy as np\n",
    "import numpy.lib.recfunctions as recfunc\n",
    "from tqdm import tqdm\n",
    "\n",
    "#from scipy.optimize import newton\n",
    "#from scipy.stats import norm\n",
    "\n",
    "import uproot\n",
    "\n",
    "import datetime\n",
    "from timeit import default_timer as timer\n",
    "\n",
    "import sklearn\n",
    "from sklearn.model_selection import train_test_split\n",
    "from sklearn.utils import shuffle\n",
    "from sklearn.metrics import roc_curve, auc, accuracy_score\n",
    "from sklearn.tree import export_graphviz\n",
    "from sklearn.inspection import permutation_importance\n",
    "try:\n",
    "    # See #1137: this allows compatibility for scikit-learn >= 0.24\n",
    "    from sklearn.utils import safe_indexing\n",
    "except ImportError:\n",
    "    from sklearn.utils import _safe_indexing\n",
    "\n",
    "import pandas as pd\n",
    "import torchinfo\n",
    "import torch\n",
    "import torch.nn as nn\n",
    "from torch.utils.data import Dataset\n",
    "from torch.utils.data import DataLoader\n",
    "\n",
    "import torch.nn.functional as F\n",
    "\n",
    "#%pip install pyarrow requests aiohttp"
   ]
  },
  {
   "cell_type": "code",
   "execution_count": 4,
   "id": "63724640",
   "metadata": {},
   "outputs": [],
   "source": []
  },
  {
   "cell_type": "code",
   "execution_count": 22,
   "id": "8f9a004e",
   "metadata": {},
   "outputs": [
    {
     "data": {
      "text/plain": [
       "layer    1.0\n",
       "wheel    1.0\n",
       "sidra    2.3\n",
       "Name: 1, dtype: float64"
      ]
     },
     "execution_count": 22,
     "metadata": {},
     "output_type": "execute_result"
    }
   ],
   "source": [
    "data = pd.DataFrame()\n",
    "\n",
    "data[\"layer\"] = [0, 1, 1, 0, 1, 0, 1, 1]\n",
    "data[\"wheel\"] = [3, 1, 0, 2, 1, 1, 3, 1]\n",
    "data[\"sidra\"] = [0.43, 2.3, 3.2, 1.4, 0.01, 1.2, 1.24, 2.1]\n"
   ]
  },
  {
   "cell_type": "code",
   "execution_count": 26,
   "id": "ba98a098",
   "metadata": {},
   "outputs": [
    {
     "name": "stdout",
     "output_type": "stream",
     "text": [
      "layer    0.00\n",
      "wheel    3.00\n",
      "sidra    0.43\n",
      "Name: 0, dtype: float64 tensor([1, 0]) tensor([0, 0, 0, 1])\n",
      "layer    1.0\n",
      "wheel    1.0\n",
      "sidra    2.3\n",
      "Name: 1, dtype: float64 tensor([0, 1]) tensor([0, 1, 0, 0])\n",
      "layer    1.0\n",
      "wheel    0.0\n",
      "sidra    3.2\n",
      "Name: 2, dtype: float64 tensor([0, 1]) tensor([1, 0, 0, 0])\n",
      "layer    0.0\n",
      "wheel    2.0\n",
      "sidra    1.4\n",
      "Name: 3, dtype: float64 tensor([1, 0]) tensor([0, 0, 1, 0])\n",
      "layer    1.00\n",
      "wheel    1.00\n",
      "sidra    0.01\n",
      "Name: 4, dtype: float64 tensor([0, 1]) tensor([0, 1, 0, 0])\n",
      "layer    0.0\n",
      "wheel    1.0\n",
      "sidra    1.2\n",
      "Name: 5, dtype: float64 tensor([1, 0]) tensor([0, 1, 0, 0])\n",
      "layer    1.00\n",
      "wheel    3.00\n",
      "sidra    1.24\n",
      "Name: 6, dtype: float64 tensor([0, 1]) tensor([0, 0, 0, 1])\n",
      "layer    1.0\n",
      "wheel    1.0\n",
      "sidra    2.1\n",
      "Name: 7, dtype: float64 tensor([0, 1]) tensor([0, 1, 0, 0])\n"
     ]
    }
   ],
   "source": [
    "oh = pd.DataFrame()\n",
    "\n",
    "ohlayer = torch.nn.functional.one_hot(torch.tensor(data[\"layer\"]), num_classes=2)\n",
    "ohwheel = torch.nn.functional.one_hot(torch.tensor(data[\"wheel\"]), num_classes=4)\n",
    "\n",
    "for i in range(ohlayer.shape[0]):\n",
    "    print(data.loc[i], ohlayer[i], ohwheel[i])\n"
   ]
  },
  {
   "cell_type": "code",
   "execution_count": null,
   "id": "917c6d4b",
   "metadata": {},
   "outputs": [],
   "source": []
  }
 ],
 "metadata": {
  "kernelspec": {
   "display_name": "Python 3 (ipykernel)",
   "language": "python",
   "name": "python3"
  },
  "language_info": {
   "codemirror_mode": {
    "name": "ipython",
    "version": 3
   },
   "file_extension": ".py",
   "mimetype": "text/x-python",
   "name": "python",
   "nbconvert_exporter": "python",
   "pygments_lexer": "ipython3",
   "version": "3.9.18"
  }
 },
 "nbformat": 4,
 "nbformat_minor": 5
}
