{
 "cells": [
  {
   "cell_type": "code",
   "execution_count": 4,
   "metadata": {},
   "outputs": [],
   "source": [
    "import numpy as np\n",
    "import networkx as nx\n",
    "import torch\n",
    "from torch.nn.parameter import Parameter\n",
    "import math\n",
    "import torch.nn.functional as F"
   ]
  },
  {
   "cell_type": "code",
   "execution_count": 5,
   "metadata": {},
   "outputs": [],
   "source": [
    "G = nx.Graph()\n",
    "blue, orange, green = '#1f77b4', '#ff7f0e', '#2ca02c'\n",
    "G.add_nodes_from([\n",
    "(1, {\"color\" : blue}),\n",
    "(2, {\"color\" : orange}),\n",
    "(3, {\"color\" : blue}),\n",
    "(4, {\"color\" : green}),\n",
    "])\n",
    "\n",
    "G.add_edges_from([(1,2) ,(2,3), (1,3), (3,4)])\n",
    "A = np.asarray(nx.adjacency_matrix(G).todense())\n"
   ]
  },
  {
   "cell_type": "code",
   "execution_count": 6,
   "metadata": {},
   "outputs": [
    {
     "name": "stdout",
     "output_type": "stream",
     "text": [
      "[[0 1 1 0]\n",
      " [1 0 1 0]\n",
      " [1 1 0 1]\n",
      " [0 0 1 0]]\n"
     ]
    }
   ],
   "source": [
    "print(A)"
   ]
  },
  {
   "cell_type": "code",
   "execution_count": 7,
   "metadata": {},
   "outputs": [
    {
     "name": "stdout",
     "output_type": "stream",
     "text": [
      "[[0. 1. 0.]\n",
      " [0. 0. 1.]\n",
      " [0. 1. 0.]\n",
      " [1. 0. 0.]]\n"
     ]
    },
    {
     "data": {
      "image/png": "[encoded data removed]",
      "text/plain": [
       "<Figure size 640x480 with 1 Axes>"
      ]
     },
     "metadata": {},
     "output_type": "display_data"
    }
   ],
   "source": [
    "def build_graph_color_label_representation(G,mapping_dict):\n",
    "    one_hot_idxs = np.array([mapping_dict[v] for v in nx.get_node_attributes(G, 'color').values()])\n",
    "    one_hot_encoding = np.zeros((one_hot_idxs.size, len(mapping_dict)))\n",
    "    one_hot_encoding[np.arange(one_hot_idxs.size), one_hot_idxs] = 1\n",
    "    return one_hot_encoding\n",
    "\n",
    "X = build_graph_color_label_representation(G, {green: 0, blue: 1, orange: 2})\n",
    "print(X)\n",
    "color_map = nx.get_node_attributes(G, 'color').values()\n",
    "nx.draw(G, with_labels = True, node_color = color_map)"
   ]
  },
  {
   "cell_type": "code",
   "execution_count": 8,
   "metadata": {},
   "outputs": [],
   "source": [
    "f_in, f_out = X.shape[1], 6\n",
    "W_1 = np.random.rand(f_in,f_out)\n",
    "W_2 = np.random.rand(f_in,f_out)\n",
    "h = np.dot(X,W_1) + np.dot(np.dot(A,X),W_2)\n"
   ]
  },
  {
   "cell_type": "markdown",
   "metadata": {},
   "source": [
    "# Implementing a GNN in Pytorch from Scratch"
   ]
  },
  {
   "cell_type": "markdown",
   "metadata": {},
   "source": [
    "### Defining the NodeNetwork model"
   ]
  },
  {
   "cell_type": "code",
   "execution_count": 9,
   "metadata": {},
   "outputs": [],
   "source": [
    "class NodeNetwork(torch.nn.Module):\n",
    "    def __init__(self,input_features):\n",
    "        super().__init__()\n",
    "        self.conv_1 = BasicGraphConvolutionLayer(input_features, 32)\n",
    "        self.conv_2 = BasicGraphConvolutionLayer(32, 32)\n",
    "        self.fc_1 = torch.nn.Linear(32,16)\n",
    "        self.out_layer = torch.nn.Linear(16,2)\n",
    "    def forward(self,X,A, batch_mat):\n",
    "        x = F.relu(self.conv_1(X,A))\n",
    "        x = F.relu(self.conv_2(x,A))\n",
    "        output = global_sum_pool(x,batch_mat)\n",
    "        output = self.fc_1(output)\n",
    "        output = self.out_layer(output)\n",
    "        return F.softmax(output,dim=1)"
   ]
  },
  {
   "cell_type": "markdown",
   "metadata": {},
   "source": [
    "### Coding the NodeNetwork's graph convolution layer"
   ]
  },
  {
   "cell_type": "code",
   "execution_count": 10,
   "metadata": {},
   "outputs": [],
   "source": [
    "class BasicGraphConvolutionLayer(torch.nn.Module):\n",
    "    def __init__(self, in_channels, out_channels):\n",
    "        super().__init__()\n",
    "        self.in_channels = in_channels\n",
    "        self.out_channels = out_channels\n",
    "        self.W2 = Parameter(torch.rand(\n",
    "            (in_channels, out_channels), dtype=torch.float32))\n",
    "        self.W1 = Parameter(torch.rand(\n",
    "            (in_channels, out_channels), dtype=torch.float32))\n",
    "        self.bias = Parameter(torch.zeros(\n",
    "                out_channels, dtype=torch.float32))\n",
    "        \n",
    "    def forward(self, X, A):\n",
    "        potential_msgs = torch.mm(X, self.W2)\n",
    "        propagated_msgs = torch.mm(A, potential_msgs)\n",
    "        root_update = torch.mm(X, self.W1)\n",
    "        output = propagated_msgs + root_update + self.bias\n",
    "        return output"
   ]
  },
  {
   "cell_type": "code",
   "execution_count": 11,
   "metadata": {},
   "outputs": [
    {
     "name": "stdout",
     "output_type": "stream",
     "text": [
      "X.shape: (4, 3)\n",
      "A.shape: (4, 4)\n",
      "Output shape: torch.Size([4, 8])\n"
     ]
    }
   ],
   "source": [
    "#Try out the BasicGraphConvolutionLayer\n",
    "print('X.shape:', X.shape) \n",
    "print('A.shape:', A.shape)\n",
    "basiclayer = BasicGraphConvolutionLayer(3, 8)\n",
    "out = basiclayer(X=torch.tensor(X, dtype=torch.float32),\n",
    "                 A=torch.tensor(A, dtype=torch.float32))\n",
    "print('Output shape:', out.shape)"
   ]
  },
  {
   "cell_type": "markdown",
   "metadata": {},
   "source": [
    "### Adding a global pooling layer to deal with varying graph size"
   ]
  },
  {
   "cell_type": "code",
   "execution_count": 12,
   "metadata": {},
   "outputs": [],
   "source": [
    "#define the global_sum_pool() function that was used in the NodeNetwork class, where \n",
    "# Global pooling layers aggregate all of a graph's node embbedings into a fixed-sized output\n",
    "def global_sum_pool(X, batch_mat):\n",
    "   if batch_mat is None or batch_mat.dim() == 1:\n",
    "     return torch.sum(X, dim=0).unsqueeze(0)\n",
    "   else:\n",
    "     return torch.mm(batch_mat, X)"
   ]
  },
  {
   "cell_type": "code",
   "execution_count": 13,
   "metadata": {},
   "outputs": [],
   "source": [
    "# generate this mask for graphs of sizes n1, ..., nk \n",
    "def get_batch_tensor(graph_sizes):\n",
    "    starts = [sum(graph_sizes[:idx]) for idx in range(len(graph_sizes))]\n",
    "    stops = [starts[idx] + graph_sizes[idx] for idx in range(len(graph_sizes))]\n",
    "    tot_len = sum(graph_sizes)\n",
    "    batch_size = len(graph_sizes)\n",
    "    batch_mat = torch.zeros([batch_size, tot_len]).float()\n",
    "    for idx, starts_and_stops in enumerate(zip(starts, stops)):\n",
    "        start = starts_and_stops[0]\n",
    "        stop = starts_and_stops[1]\n",
    "        batch_mat[idx,start:stop] = 1\n",
    "    return batch_mat\n"
   ]
  },
  {
   "cell_type": "code",
   "execution_count": 14,
   "metadata": {},
   "outputs": [],
   "source": [
    "# batch is a list of dictionaries each containing\n",
    "# the representation and label of a graph\n",
    "def collate_graphs(batch):\n",
    "   adj_mats = [graph['A'] for graph in batch]\n",
    "   sizes = [A.size(0) for A in adj_mats]\n",
    "   tot_size = sum(sizes)\n",
    "   # create batch matrix\n",
    "   batch_mat = get_batch_tensor(sizes)\n",
    "   # combine feature matrices\n",
    "   feat_mats = torch.cat([graph['X'] for graph in batch], dim=0)\n",
    "   # combine labels\n",
    "   labels = torch.cat([graph['y'] for graph in batch], dim=0)\n",
    "   # combine adjacency matrices\n",
    "   batch_adj = torch.zeros([tot_size, tot_size], dtype=torch.float32)\n",
    "   accum = 0\n",
    "   for adj in adj_mats:\n",
    "      g_size = adj.shape[0]\n",
    "      batch_adj[accum:accum+g_size,accum:accum+g_size] = adj\n",
    "      accum = accum + g_size\n",
    "      repr_and_label = {'A': batch_adj,'X': feat_mats, 'y': labels,'batch': batch_mat}\n",
    "   return repr_and_label\n"
   ]
  },
  {
   "cell_type": "markdown",
   "metadata": {},
   "source": [
    "### Preparing the DataLoader"
   ]
  },
  {
   "cell_type": "code",
   "execution_count": 15,
   "metadata": {},
   "outputs": [],
   "source": [
    "def get_graph_dict(G, mapping_dict):\n",
    "     # Function builds dictionary representation of graph G\n",
    "    A = torch.from_numpy(np.asarray(nx.adjacency_matrix(G).todense())).float()\n",
    "    # build_graph_color_label_representation()\n",
    "   # was introduced with the first example graph\n",
    "    X = torch.from_numpy(build_graph_color_label_representation(G, mapping_dict)).float()\n",
    "    # kludge since there is not specific task for this example\n",
    "    y = torch.tensor([[1,0]]).float()\n",
    "    return {'A': A, 'X': X, 'y': y, 'batch': None}"
   ]
  },
  {
   "cell_type": "code",
   "execution_count": 16,
   "metadata": {},
   "outputs": [],
   "source": [
    " # building 4 graphs to treat as a dataset\n",
    "blue, orange, green = \"#1f77b4\", \"#ff7f0e\",\"#2ca02c\"\n",
    "mapping_dict= {green:0, blue:1, orange:2}\n",
    "G1 = nx.Graph()\n",
    "G1.add_nodes_from([\n",
    "     (1,{\"color\": blue}),\n",
    "     (2,{\"color\": orange}),\n",
    "     (3,{\"color\": blue}),\n",
    "     (4,{\"color\": green})\n",
    "])\n",
    "G1.add_edges_from([(1, 2), (2, 3), (1, 3), (3, 4)])\n",
    "G2 = nx.Graph()\n",
    "G2.add_nodes_from([\n",
    "    (1,{\"color\": green}),\n",
    "    (2,{\"color\": green}),\n",
    "    (3,{\"color\": orange}),\n",
    "    (4,{\"color\": orange}),\n",
    "    (5,{\"color\": blue})\n",
    "])\n",
    "G2.add_edges_from([(2, 3),(3, 4),(3, 1),(5, 1)])\n",
    "G3 = nx.Graph()\n",
    "G3.add_nodes_from([\n",
    "    (1,{\"color\": orange}),\n",
    "    (2,{\"color\": orange}),\n",
    "    (3,{\"color\": green}),\n",
    "    (4,{\"color\": green}),\n",
    "    (5,{\"color\": blue}),\n",
    "    (6,{\"color\":orange})\n",
    "])\n",
    "G3.add_edges_from([(2,3), (3,4), (3,1), (5,1), (2,5), (6,1)])\n",
    "G4 = nx.Graph()\n",
    "G4.add_nodes_from([\n",
    "    (1,{\"color\": blue}),\n",
    "    (2,{\"color\": blue}),\n",
    "    (3,{\"color\": green})\n",
    "])\n",
    "G4.add_edges_from([(1, 2), (2, 3)])\n",
    "graph_list = [get_graph_dict(graph, mapping_dict) for graph in\n",
    "    [G1, G2, G3, G4]]"
   ]
  },
  {
   "cell_type": "code",
   "execution_count": 17,
   "metadata": {},
   "outputs": [],
   "source": [
    "from torch.utils.data import Dataset\n",
    "class ExampleDataset(Dataset):\n",
    "    # Simple PyTorch dataset that will use our list of graphs\n",
    "    def __init__(self, graph_list):\n",
    "        self.graphs = graph_list\n",
    "    def __len__(self):\n",
    "        return len(self.graphs)\n",
    "    def __getitem__(self,idx):\n",
    "        mol_rep = self.graphs[idx]\n",
    "        return mol_rep"
   ]
  },
  {
   "cell_type": "code",
   "execution_count": 18,
   "metadata": {},
   "outputs": [],
   "source": [
    "from torch.utils.data import DataLoader\n",
    "dset = ExampleDataset(graph_list)\n",
    "# Note how we use our custom collate function\n",
    "loader = DataLoader(\n",
    "    dset, batch_size=2, shuffle=False,\n",
    "    collate_fn=collate_graphs)"
   ]
  },
  {
   "cell_type": "code",
   "execution_count": 19,
   "metadata": {},
   "outputs": [
    {
     "data": {
      "text/plain": [
       "tensor(True)"
      ]
     },
     "execution_count": 19,
     "metadata": {},
     "output_type": "execute_result"
    }
   ],
   "source": [
    "node_features = 3\n",
    "net = NodeNetwork(node_features)\n",
    "batch_results = []\n",
    "for b in loader:\n",
    "    batch_results.append(\n",
    "        net(b['X'], b['A'], b['batch']).detach())\n",
    "\n",
    "G1_rep = dset[1]\n",
    "G1_single = net(\n",
    "     G1_rep['X'], G1_rep['A'], G1_rep['batch']).detach()\n",
    "G1_batch = batch_results[0][1]\n",
    "torch.all(torch.isclose(G1_single, G1_batch))"
   ]
  },
  {
   "cell_type": "markdown",
   "metadata": {},
   "source": [
    "# Implementing a GNN using the PyTorch Geometric Library"
   ]
  },
  {
   "cell_type": "code",
   "execution_count": null,
   "metadata": {},
   "outputs": [
    {
     "data": {
      "text/plain": [
       "Data(x=[5, 11], edge_index=[2, 8], edge_attr=[8, 4], y=[1, 19], pos=[5, 3], idx=[1], name='gdb_1', z=[5], new_attribute=[3])"
      ]
     },
     "execution_count": 1,
     "metadata": {},
     "output_type": "execute_result"
    }
   ],
   "source": [
    "# For all examples in this section we use the following imports.\n",
    "# Note that we are using torch_geometric's DataLoader.\n",
    "import torch\n",
    "from torch_geometric.datasets import QM9\n",
    "from torch_geometric.loader import DataLoader\n",
    "from torch_geometric.nn import NNConv, global_add_pool\n",
    "import torch.nn.functional as F\n",
    "import torch.nn as nn\n",
    "import numpy as np\n",
    "# let's load the QM9 small molecule dataset\n",
    "dset = QM9('.')\n",
    "len(dset)"
   ]
  },
  {
   "cell_type": "code",
   "execution_count": 5,
   "metadata": {},
   "outputs": [
    {
     "data": {
      "text/plain": [
       "tensor([6, 1, 1, 1, 1])"
      ]
     },
     "execution_count": 5,
     "metadata": {},
     "output_type": "execute_result"
    }
   ],
   "source": [
    "# Here's how torch geometric wraps data\n",
    "data = dset[0]\n",
    "# can access attributes directly\n",
    "data.z"
   ]
  },
  {
   "cell_type": "code",
   "execution_count": null,
   "metadata": {},
   "outputs": [
    {
     "data": {
      "text/plain": [
       "Data(x=[5, 11], edge_index=[2, 8], edge_attr=[8, 4], y=[1, 19], pos=[5, 3], idx=[1], name='gdb_1', z=[5], new_attribute=[3])"
      ]
     },
     "execution_count": 9,
     "metadata": {},
     "output_type": "execute_result"
    }
   ],
   "source": [
    "# the atomic number of each atom can add attributes\n",
    "data.new_attribute = torch.tensor([1, 2, 3])\n",
    "#can move all attributes between devices\n",
    "device = torch.device(\"cuda:0\" if torch.cuda.is_available() else \"cpu\")\n",
    "data.to(device)\n",
    "data.new_attribute.is_cuda\n",
    "data"
   ]
  },
  {
   "cell_type": "code",
   "execution_count": 11,
   "metadata": {},
   "outputs": [
    {
     "data": {
      "image/png": "[encoded data removed]",
      "text/plain": [
       "<Figure size 640x480 with 1 Axes>"
      ]
     },
     "metadata": {},
     "output_type": "display_data"
    }
   ],
   "source": [
    "import matplotlib.pyplot as plt\n",
    "import networkx as nx\n",
    "from torch_geometric.utils import to_networkx\n",
    "\n",
    "# Convertimos el grafo a formato NetworkX\n",
    "graph = to_networkx(data, node_attrs=['z'], edge_attrs=None)\n",
    "\n",
    "# Configurar el layout de los nodos\n",
    "pos = nx.spring_layout(graph)  # Usa un layout de resorte para la disposición de nodos\n",
    "\n",
    "# Dibujamos el grafo\n",
    "plt.figure()\n",
    "nx.draw(graph, pos, with_labels=True, node_color=data.z.cpu().numpy(), cmap=plt.cm.viridis, node_size=500)\n",
    "plt.title(\"Grafo de QM9\")\n",
    "plt.show()\n"
   ]
  },
  {
   "cell_type": "code",
   "execution_count": 26,
   "metadata": {},
   "outputs": [],
   "source": [
    "class ExampleNet(torch.nn.Module):\n",
    "    def __init__(self, num_node_features, num_edge_features):\n",
    "        super().__init__()\n",
    "        conv1_net = nn.Sequential(\n",
    "            nn.Linear(num_edge_features, 32),\n",
    "            nn.ReLU(),\n",
    "            nn.Linear(32, num_node_features*32))\n",
    "        conv2_net = nn.Sequential(\n",
    "            nn.Linear(num_edge_features, 32),\n",
    "            nn.ReLU(),\n",
    "            nn.Linear(32, 32*16))\n",
    "        self.conv1 = NNConv(num_node_features, 32, conv1_net)\n",
    "        self.conv2 = NNConv(32,16, conv2_net)\n",
    "        self.fc_1 = nn.Linear(16, 32)\n",
    "        self.out = nn.Linear(32, 1)\n",
    "    def forward(self, data):\n",
    "        batch, x, edge_index, edge_attr = (\n",
    "            data.batch, data.x, data.edge_index, data.edge_attr)\n",
    "        # First graph conv layer\n",
    "        x = F.relu(self.conv1(x, edge_index, edge_attr))\n",
    "        # Second graph conv layer\n",
    "        x = F.relu(self.conv2(x, edge_index, edge_attr))\n",
    "        x = global_add_pool(x,batch)\n",
    "        x = F.relu(self.fc_1(x))\n",
    "        output = self.out(x)\n",
    "        return output"
   ]
  },
  {
   "cell_type": "code",
   "execution_count": null,
   "metadata": {},
   "outputs": [],
   "source": [
    "\n",
    "from torch.utils.data import random_split\n",
    "train_set, valid_set, test_set = random_split(dset,[110000, 10831, 10000])\n",
    "trainloader = DataLoader(train_set, batch_size=32, shuffle=True)\n",
    "validloader = DataLoader(valid_set, batch_size=32, shuffle=True)\n",
    "testloader = DataLoader(test_set, batch_size=32, shuffle=True)"
   ]
  },
  {
   "cell_type": "code",
   "execution_count": null,
   "metadata": {},
   "outputs": [
    {
     "data": {
      "text/plain": [
       "ExampleNet(\n",
       "  (conv1): NNConv(11, 32, aggr=add, nn=Sequential(\n",
       "    (0): Linear(in_features=4, out_features=32, bias=True)\n",
       "    (1): ReLU()\n",
       "    (2): Linear(in_features=32, out_features=352, bias=True)\n",
       "  ))\n",
       "  (conv2): NNConv(32, 16, aggr=add, nn=Sequential(\n",
       "    (0): Linear(in_features=4, out_features=32, bias=True)\n",
       "    (1): ReLU()\n",
       "    (2): Linear(in_features=32, out_features=512, bias=True)\n",
       "  ))\n",
       "  (fc_1): Linear(in_features=16, out_features=32, bias=True)\n",
       "  (out): Linear(in_features=32, out_features=1, bias=True)\n",
       ")"
      ]
     },
     "execution_count": 29,
     "metadata": {},
     "output_type": "execute_result"
    }
   ],
   "source": [
    "\n",
    "# initialize a network\n",
    "qm9_node_feats, qm9_edge_feats = 11, 4\n",
    "net = ExampleNet(qm9_node_feats, qm9_edge_feats)\n",
    "# initialize an optimizer with some reasonable parameters\n",
    "optimizer = torch.optim.Adam(\n",
    "    net.parameters(), lr=0.01)\n",
    "epochs = 4\n",
    "target_idx = 1 # index position of the polarizability label\n",
    "device = torch.device(\"cuda:0\" if torch.cuda.is_available() else \"cpu\")\n",
    "net.to(device)"
   ]
  },
  {
   "cell_type": "code",
   "execution_count": null,
   "metadata": {},
   "outputs": [
    {
     "name": "stdout",
     "output_type": "stream",
     "text": [
      "Epochs: 0 | epoch avg. loss: 0.39 | validation avg. loss: 0.22\n",
      "Epochs: 1 | epoch avg. loss: 0.13 | validation avg. loss: 0.14\n",
      "Epochs: 2 | epoch avg. loss: 0.11 | validation avg. loss: 0.20\n",
      "Epochs: 3 | epoch avg. loss: 0.10 | validation avg. loss: 0.08\n",
      "Epochs: 4 | epoch avg. loss: 0.09 | validation avg. loss: 0.11\n",
      "Epochs: 5 | epoch avg. loss: 0.09 | validation avg. loss: 0.10\n"
     ]
    }
   ],
   "source": [
    "\n",
    "for total_epochs in range(epochs):\n",
    "    epoch_loss = 0      \n",
    "    total_graphs = 0\n",
    "    net.train()\n",
    "    for batch in trainloader:\n",
    "        batch.to(device)\n",
    "        optimizer.zero_grad()\n",
    "        output = net(batch)\n",
    "        loss = F.mse_loss(\n",
    "            output,batch.y[:, target_idx].unsqueeze(1))\n",
    "        loss.backward()\n",
    "        epoch_loss += loss.item()\n",
    "        total_graphs += batch.num_graphs\n",
    "        optimizer.step()\n",
    "    train_avg_loss = epoch_loss / total_graphs\n",
    "    val_loss = 0\n",
    "    total_graphs = 0\n",
    "    net.eval()\n",
    "    for batch in validloader:\n",
    "        batch.to(device)\n",
    "        output = net(batch)\n",
    "        loss = F.mse_loss(\n",
    "            output,batch.y[:, target_idx].unsqueeze(1))\n",
    "        val_loss += loss.item()\n",
    "        total_graphs += batch.num_graphs\n",
    "    val_avg_loss = val_loss / total_graphs\n",
    "    print(f\"Epochs: {total_epochs} | \"\n",
    "          f\"epoch avg. loss: {train_avg_loss:.2f} | \"\n",
    "          f\"validation avg. loss: {val_avg_loss:.2f}\")"
   ]
  },
  {
   "cell_type": "code",
   "execution_count": null,
   "metadata": {},
   "outputs": [],
   "source": [
    "\n",
    "net.eval()\n",
    "predictions = []\n",
    "real = []\n",
    "for batch in testloader:\n",
    "    output = net(batch.to(device))\n",
    "    predictions.append(output.detach().cpu().numpy())\n",
    "    real.append(\n",
    "            batch.y[:,target_idx] .detach().cpu().numpy())\n",
    "real = np.concatenate(real)\n",
    "predictions = np.concatenate(predictions)"
   ]
  },
  {
   "cell_type": "code",
   "execution_count": null,
   "metadata": {},
   "outputs": [],
   "source": []
  },
  {
   "cell_type": "code",
   "execution_count": 33,
   "metadata": {},
   "outputs": [
    {
     "data": {
      "text/plain": [
       "Text(0, 0.5, 'Predicted isotropic polarizability')"
      ]
     },
     "execution_count": 33,
     "metadata": {},
     "output_type": "execute_result"
    },
    {
     "data": {
      "image/png": "[encoded data removed]",
      "text/plain": [
       "<Figure size 640x480 with 1 Axes>"
      ]
     },
     "metadata": {},
     "output_type": "display_data"
    }
   ],
   "source": [
    "import matplotlib.pyplot as plt\n",
    "plt.scatter(real[:500], predictions[:500])\n",
    "plt.xlabel('Isotropic polarizability')\n",
    "plt.ylabel('Predicted isotropic polarizability')"
   ]
  },
  {
   "cell_type": "code",
   "execution_count": null,
   "metadata": {},
   "outputs": [],
   "source": []
  }
 ],
 "metadata": {
  "kernelspec": {
   "display_name": "jupyter_ml_env",
   "language": "python",
   "name": "python3"
  },
  "language_info": {
   "codemirror_mode": {
    "name": "ipython",
    "version": 3
   },
   "file_extension": ".py",
   "mimetype": "text/x-python",
   "name": "python",
   "nbconvert_exporter": "python",
   "pygments_lexer": "ipython3",
   "version": "3.11.10"
  }
 },
 "nbformat": 4,
 "nbformat_minor": 2
}
